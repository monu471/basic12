{
 "cells": [
  {
   "cell_type": "markdown",
   "id": "bf0afd2e",
   "metadata": {},
   "source": [
    "### 1. In what modes should the PdfFileReader() and PdfFileWriter() File objects will be opened?"
   ]
  },
  {
   "cell_type": "markdown",
   "id": "5139474d",
   "metadata": {},
   "source": [
    "When using the PdfFileReader() and PdfFileWriter() functions from the PyPDF2 library in Python, the File objects passed to these functions should be opened in different modes:"
   ]
  },
  {
   "cell_type": "markdown",
   "id": "8b0810e3",
   "metadata": {},
   "source": [
    "file_obj = open('input.pdf', 'rb')\n",
    "\n",
    "pdf_reader = PdfFileReader(file_obj)\n",
    "____________________________________\n",
    "\n",
    "\n",
    "file_obj = open('output.pdf', 'wb')\n",
    "\n",
    "pdf_writer = PdfFileWriter()\n",
    "\n",
    "pdf_writer.addPage(page)  # Adding content to the PDF writer\n",
    "\n",
    "pdf_writer.write(file_obj)\n"
   ]
  },
  {
   "cell_type": "markdown",
   "id": "d816845e",
   "metadata": {},
   "source": [
    "### 2. From a PdfFileReader object, how do you get a Page object for page 5?"
   ]
  },
  {
   "cell_type": "code",
   "execution_count": 12,
   "id": "cf94b342",
   "metadata": {},
   "outputs": [],
   "source": [
    "import PyPDF2"
   ]
  },
  {
   "cell_type": "code",
   "execution_count": 1,
   "id": "68046da6",
   "metadata": {},
   "outputs": [
    {
     "name": "stdout",
     "output_type": "stream",
     "text": [
      "Defaulting to user installation because normal site-packages is not writeable\n",
      "Collecting PyPDF2\n",
      "  Downloading pypdf2-3.0.1-py3-none-any.whl (232 kB)\n",
      "     -------------------------------------- 232.6/232.6 kB 4.8 MB/s eta 0:00:00\n",
      "Installing collected packages: PyPDF2\n",
      "Successfully installed PyPDF2-3.0.1\n",
      "Note: you may need to restart the kernel to use updated packages.\n"
     ]
    }
   ],
   "source": [
    "pip install PyPDF2"
   ]
  },
  {
   "cell_type": "code",
   "execution_count": 21,
   "id": "dfa40093",
   "metadata": {},
   "outputs": [],
   "source": [
    "path = \"E:\\statics_ineuron\"\n",
    "file_name = \"PYTHON_FEATURE_ENGINEERING_COOKBOOK.pdf\"\n",
    "# file_name = \"Day 2- fsds bootcamp.pdf\""
   ]
  },
  {
   "cell_type": "code",
   "execution_count": 22,
   "id": "d0783707",
   "metadata": {},
   "outputs": [],
   "source": [
    "import os\n",
    "os.chdir(path)"
   ]
  },
  {
   "cell_type": "markdown",
   "id": "f76997db",
   "metadata": {},
   "source": [
    "```\n",
    "with open(file_name,'rb') as f:\n",
    "    pdf_content =  PyPDF2.PdfReader(f)\n",
    "    for i in range(len(pdf_content.pages)):\n",
    "        page = pdf_content.pages[i]\n",
    "        print(page.extract_text())\n",
    "```    "
   ]
  },
  {
   "cell_type": "code",
   "execution_count": 15,
   "id": "80d089b6",
   "metadata": {},
   "outputs": [
    {
     "data": {
      "text/plain": [
       "<PyPDF2._reader.PdfReader at 0x2d4408511e0>"
      ]
     },
     "execution_count": 15,
     "metadata": {},
     "output_type": "execute_result"
    }
   ],
   "source": [
    "pdf_content"
   ]
  },
  {
   "cell_type": "code",
   "execution_count": 24,
   "id": "afdd6412",
   "metadata": {},
   "outputs": [
    {
     "name": "stdout",
     "output_type": "stream",
     "text": [
      "About the reviewer\n",
      "Greg Walters  has been involved with computers and computer programming since 1972.\n",
      "He is well versed in Visual Basic, Visual Basic .NET, Python, and SQL, and is an\n",
      "accomplished user of MySQL, SQLite, Microsoft SQL Server, Oracle, C++, Delphi,\n",
      "Modula-2, Pascal, C, 80x86 Assembler, COBOL, and Fortran. He is a programming trainer\n",
      "and has trained numerous people on many pieces of computer software, including MySQL,\n",
      "Open Database Connectivity, Quattro Pro, Corel Draw!, Paradox, Microsoft Word, Excel,\n",
      "DOS, Windows 3.11, Windows for Workgroups, Windows 95, Windows NT, Windows\n",
      "2000, Windows XP, and Linux. He is semi-retired and has written over 100 articles for\n",
      "the Full Circle  magazine. He is open to working as a freelancer on various projects.\n",
      "Packt is searching for authors like you\n",
      "If you're interested in becoming an author for Packt, please visit authors.packtpub.com\n",
      "and apply today. We have worked with thousands of developers and tech professionals,\n",
      "just like you, to help them share their insight with the global tech community. You can\n",
      "make a general application, apply for a specific hot topic that we are recruiting an author\n",
      "for, or submit your own idea.\n"
     ]
    }
   ],
   "source": [
    "with open(file_name,'rb') as f:\n",
    "    pdf_content =  PyPDF2.PdfReader(f)\n",
    "#     for i in range(len(pdf_content.pages)):\n",
    "    page = pdf_content.pages[5]\n",
    "    print(page.extract_text())"
   ]
  },
  {
   "cell_type": "markdown",
   "id": "c678191d",
   "metadata": {},
   "source": [
    "### 3. What PdfFileReader variable stores the number of pages in the PDF document?"
   ]
  },
  {
   "cell_type": "markdown",
   "id": "c2cabb54",
   "metadata": {},
   "source": [
    "In PyPDF2, the PdfFileReader class has a method called getNumPages() that returns the total number of pages in a PDF document. It does not store the number of pages in a variable directly.\n",
    "\n",
    "To retrieve the number of pages in a PDF document using PdfFileReader, you can call the getNumPages() method on an instance of PdfFileReader after opening the PDF file."
   ]
  },
  {
   "cell_type": "markdown",
   "id": "5534dcdc",
   "metadata": {},
   "source": [
    "### 4. If a PdfFileReader object’s PDF is encrypted with the password swordfish, what must you dobefore you can obtain Page objects from it?"
   ]
  },
  {
   "cell_type": "code",
   "execution_count": null,
   "id": "b1df2516",
   "metadata": {},
   "outputs": [],
   "source": [
    "```\n",
    "from PyPDF2 import PdfFileReader\n",
    "\n",
    "file_name = 'encrypted.pdf'\n",
    "password = 'swordfish'\n",
    "\n",
    "# Open the encrypted PDF file in read-binary mode\n",
    "with open(file_name, 'rb') as file_obj:\n",
    "    # Create a PdfFileReader object\n",
    "    pdf_reader = PdfFileReader(file_obj)\n",
    "\n",
    "    # Decrypt the PDF using the password\n",
    "    pdf_reader.decrypt(password)\n",
    "\n",
    "    # Get the number of pages in the PDF\n",
    "    num_pages = pdf_reader.getNumPages()\n",
    "    print(\"Number of pages:\", num_pages)\n",
    "\n",
    "    # Retrieve Page objects from the decrypted PDF\n",
    "    for i in range(num_pages):\n",
    "        page = pdf_reader.getPage(i)\n",
    "        # Perform operations on the page as needed\n",
    "        print(\"Page\", i+1, \":\", page.extract_text())\n"
   ]
  },
  {
   "cell_type": "markdown",
   "id": "ae2cd9a0",
   "metadata": {},
   "source": [
    "### 5. What methods do you use to rotate a page?"
   ]
  },
  {
   "cell_type": "markdown",
   "id": "386ae76d",
   "metadata": {},
   "source": [
    "```import PyPDF2\n",
    "\n",
    "# Open the PDF file\n",
    "with open('input.pdf', 'rb') as file:\n",
    "    reader = PyPDF2.PdfReader(file)\n",
    "    \n",
    "    # Get the first page\n",
    "    page = reader.pages[0]\n",
    "\n",
    "    # Rotate the page clockwise by 90 degrees\n",
    "    page.rotateClockwise(90)\n",
    "\n",
    "    # Create a new PDF writer\n",
    "    writer = PyPDF2.PdfWriter()\n",
    "    writer.add_page(page)\n",
    "\n",
    "    # Save the rotated page to a new PDF file\n",
    "    with open('output.pdf', 'wb') as output_file:\n",
    "        writer.write(output_file)\n",
    "\n",
    "```"
   ]
  },
  {
   "cell_type": "markdown",
   "id": "8e23726f",
   "metadata": {},
   "source": [
    "### 6. What is the difference between a Run object and a Paragraph object?"
   ]
  },
  {
   "cell_type": "markdown",
   "id": "970d90f4",
   "metadata": {},
   "source": [
    "In the context of working with documents using the python-docx library, a Run object and a Paragraph object represent different components of a document's content. Here's the difference between the two:\n",
    "\n",
    "1. Paragraph object: A Paragraph object represents a paragraph within a document. It is a container for text and other elements such as inline formatting, runs, and styles. A paragraph can contain multiple runs or segments of text with different formatting. For example, a paragraph may include multiple runs with different font styles, sizes, or formatting options. You can access and modify the text and formatting of a paragraph using the Paragraph object.\n",
    "\n",
    "2. Run object: A Run object represents a contiguous segment of text within a paragraph that shares the same character formatting. It is the smallest unit of text formatting in a paragraph. A paragraph may contain one or more runs, and each run can have its own formatting, such as font style, size, color, bold, italic, etc. By using Run objects, you can apply different formatting options to specific portions of text within a paragraph.\n",
    "\n",
    "To summarize, a Paragraph object represents a collection of related text and formatting within a document, while a Run object represents a specific segment of text within a paragraph with its own formatting. By working with both Paragraph and Run objects, you can manipulate the structure and formatting of text in a document more precisely."
   ]
  },
  {
   "cell_type": "markdown",
   "id": "697260ef",
   "metadata": {},
   "source": [
    "### 8. What type of object has bold, underline, italic, strike, and outline variables?"
   ]
  },
  {
   "cell_type": "markdown",
   "id": "3bd5c44b",
   "metadata": {},
   "source": [
    "``from docx import Document\n",
    "\n",
    "doc = Document()\n",
    "paragraph = doc.add_paragraph()\n",
    "run = paragraph.add_run(\"Hello, World!\")\n",
    "\n",
    "Modify the font properties\n",
    "font = run.font\n",
    "\n",
    "font.bold = True\n",
    "\n",
    "font.underline = True\n",
    "\n",
    "font.italic = True\n",
    "\n",
    "font.strike = True\n",
    "\n",
    "font.outline = True\n",
    "\n",
    "doc.save(\"output.docx\")\n",
    "\n",
    "```"
   ]
  },
  {
   "cell_type": "markdown",
   "id": "97c38ce8",
   "metadata": {},
   "source": [
    "### 10. How do you create a Document object for a new Word document?"
   ]
  },
  {
   "cell_type": "code",
   "execution_count": 2,
   "id": "40417031",
   "metadata": {},
   "outputs": [
    {
     "name": "stdout",
     "output_type": "stream",
     "text": [
      "Defaulting to user installation because normal site-packages is not writeable\n",
      "Collecting python-docx\n",
      "  Downloading python-docx-0.8.11.tar.gz (5.6 MB)\n",
      "     ---------------------------------------- 5.6/5.6 MB 3.3 MB/s eta 0:00:00\n",
      "  Preparing metadata (setup.py): started\n",
      "  Preparing metadata (setup.py): finished with status 'done'\n",
      "Requirement already satisfied: lxml>=2.3.2 in e:\\conda\\lib\\site-packages (from python-docx) (4.9.1)\n",
      "Building wheels for collected packages: python-docx\n",
      "  Building wheel for python-docx (setup.py): started\n",
      "  Building wheel for python-docx (setup.py): finished with status 'done'\n",
      "  Created wheel for python-docx: filename=python_docx-0.8.11-py3-none-any.whl size=184519 sha256=412795329a1f79113c3cee5a6c37ce0f3fd4201cee9e4aea473616b3d50bb332\n",
      "  Stored in directory: c:\\users\\my\\appdata\\local\\pip\\cache\\wheels\\65\\e1\\9b\\0c38fe6cfe02a9fe31cb6b4efd90985f17354d7f77872f2def\n",
      "Successfully built python-docx\n",
      "Installing collected packages: python-docx\n",
      "Successfully installed python-docx-0.8.11\n",
      "Note: you may need to restart the kernel to use updated packages.\n"
     ]
    }
   ],
   "source": [
    "pip install python-docx\n"
   ]
  },
  {
   "cell_type": "code",
   "execution_count": 3,
   "id": "40ed0be9",
   "metadata": {},
   "outputs": [],
   "source": [
    "from docx import Document\n",
    "\n",
    "# Create a new document\n",
    "doc = Document()\n",
    "\n",
    "# Add content to the document\n",
    "doc.add_paragraph(\"Hello, World!\")\n",
    "doc.add_heading(\"Heading 1\", level=1)\n",
    "# ... Add more paragraphs, headings, tables, etc.\n",
    "\n",
    "# Save the document\n",
    "doc.save(\"my_document.docx\")\n"
   ]
  },
  {
   "cell_type": "markdown",
   "id": "5021cd25",
   "metadata": {},
   "source": [
    "### 11. How do you add a paragraph with the text &#39;Hello, there!&#39; to a Document object stored in avariable named doc?"
   ]
  },
  {
   "cell_type": "code",
   "execution_count": 4,
   "id": "5963c8dd",
   "metadata": {},
   "outputs": [],
   "source": [
    "from docx import Document\n",
    "\n",
    "# Create a new document\n",
    "doc = Document()\n",
    "\n",
    "# Add a paragraph with the text 'Hello, there!'\n",
    "paragraph = doc.add_paragraph('Hello, there!')\n",
    "\n",
    "# Save the document\n",
    "doc.save('my_document.docx')\n"
   ]
  },
  {
   "cell_type": "markdown",
   "id": "2938e06a",
   "metadata": {},
   "source": [
    "### 12 What integers represent the levels of headings available in Word documents?"
   ]
  },
  {
   "cell_type": "code",
   "execution_count": 5,
   "id": "fc55ecc4",
   "metadata": {},
   "outputs": [],
   "source": [
    "from docx import Document\n",
    "\n",
    "# Create a new document\n",
    "doc = Document()\n",
    "\n",
    "# Add Heading 1\n",
    "doc.add_heading('Heading 1', level=1)\n",
    "\n",
    "# Add Heading 2\n",
    "doc.add_heading('Heading 2', level=2)\n",
    "\n",
    "# Save the document\n",
    "doc.save('my_document123.docx')\n"
   ]
  },
  {
   "cell_type": "code",
   "execution_count": null,
   "id": "8c96af4b",
   "metadata": {},
   "outputs": [],
   "source": []
  }
 ],
 "metadata": {
  "kernelspec": {
   "display_name": "Python 3 (ipykernel)",
   "language": "python",
   "name": "python3"
  },
  "language_info": {
   "codemirror_mode": {
    "name": "ipython",
    "version": 3
   },
   "file_extension": ".py",
   "mimetype": "text/x-python",
   "name": "python",
   "nbconvert_exporter": "python",
   "pygments_lexer": "ipython3",
   "version": "3.10.9"
  }
 },
 "nbformat": 4,
 "nbformat_minor": 5
}
